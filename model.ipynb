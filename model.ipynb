{
 "cells": [
  {
   "cell_type": "code",
   "execution_count": 1,
   "metadata": {},
   "outputs": [
    {
     "name": "stdout",
     "output_type": "stream",
     "text": [
      "Collecting pandas\n",
      "  Obtaining dependency information for pandas from https://files.pythonhosted.org/packages/cd/5f/4dba1d39bb9c38d574a9a22548c540177f78ea47b32f99c0ff2ec499fac5/pandas-2.2.3-cp311-cp311-manylinux_2_17_x86_64.manylinux2014_x86_64.whl.metadata\n",
      "  Downloading pandas-2.2.3-cp311-cp311-manylinux_2_17_x86_64.manylinux2014_x86_64.whl.metadata (89 kB)\n",
      "\u001b[2K     \u001b[90m━━━━━━━━━━━━━━━━━━━━━━━━━━━━━━━━━━━━━━━━\u001b[0m \u001b[32m89.9/89.9 kB\u001b[0m \u001b[31m3.7 MB/s\u001b[0m eta \u001b[36m0:00:00\u001b[0m\n",
      "\u001b[?25hRequirement already satisfied: matplotlib in /usr/local/lib/python3.11/dist-packages (3.8.0)\n",
      "Requirement already satisfied: numpy in /usr/local/lib/python3.11/dist-packages (1.26.0)\n",
      "Requirement already satisfied: keras in /usr/local/lib/python3.11/dist-packages (2.14.0)\n",
      "Requirement already satisfied: python-dateutil>=2.8.2 in /usr/local/lib/python3.11/dist-packages (from pandas) (2.8.2)\n",
      "Collecting pytz>=2020.1 (from pandas)\n",
      "  Obtaining dependency information for pytz>=2020.1 from https://files.pythonhosted.org/packages/81/c4/34e93fe5f5429d7570ec1fa436f1986fb1f00c3e0f43a589fe2bbcd22c3f/pytz-2025.2-py2.py3-none-any.whl.metadata\n",
      "  Downloading pytz-2025.2-py2.py3-none-any.whl.metadata (22 kB)\n",
      "Collecting tzdata>=2022.7 (from pandas)\n",
      "  Obtaining dependency information for tzdata>=2022.7 from https://files.pythonhosted.org/packages/5c/23/c7abc0ca0a1526a0774eca151daeb8de62ec457e77262b66b359c3c7679e/tzdata-2025.2-py2.py3-none-any.whl.metadata\n",
      "  Downloading tzdata-2025.2-py2.py3-none-any.whl.metadata (1.4 kB)\n",
      "Requirement already satisfied: contourpy>=1.0.1 in /usr/local/lib/python3.11/dist-packages (from matplotlib) (1.1.1)\n",
      "Requirement already satisfied: cycler>=0.10 in /usr/local/lib/python3.11/dist-packages (from matplotlib) (0.11.0)\n",
      "Requirement already satisfied: fonttools>=4.22.0 in /usr/local/lib/python3.11/dist-packages (from matplotlib) (4.42.1)\n",
      "Requirement already satisfied: kiwisolver>=1.0.1 in /usr/local/lib/python3.11/dist-packages (from matplotlib) (1.4.5)\n",
      "Requirement already satisfied: packaging>=20.0 in /usr/local/lib/python3.11/dist-packages (from matplotlib) (23.1)\n",
      "Requirement already satisfied: pillow>=6.2.0 in /usr/local/lib/python3.11/dist-packages (from matplotlib) (10.0.1)\n",
      "Requirement already satisfied: pyparsing>=2.3.1 in /usr/lib/python3/dist-packages (from matplotlib) (2.4.7)\n",
      "Requirement already satisfied: six>=1.5 in /usr/lib/python3/dist-packages (from python-dateutil>=2.8.2->pandas) (1.16.0)\n",
      "Downloading pandas-2.2.3-cp311-cp311-manylinux_2_17_x86_64.manylinux2014_x86_64.whl (13.1 MB)\n",
      "\u001b[2K   \u001b[90m━━━━━━━━━━━━━━━━━━━━━━━━━━━━━━━━━━━━━━━━\u001b[0m \u001b[32m13.1/13.1 MB\u001b[0m \u001b[31m42.4 MB/s\u001b[0m eta \u001b[36m0:00:00\u001b[0m00:01\u001b[0m00:01\u001b[0m\n",
      "\u001b[?25hDownloading pytz-2025.2-py2.py3-none-any.whl (509 kB)\n",
      "\u001b[2K   \u001b[90m━━━━━━━━━━━━━━━━━━━━━━━━━━━━━━━━━━━━━━━\u001b[0m \u001b[32m509.2/509.2 kB\u001b[0m \u001b[31m124.5 MB/s\u001b[0m eta \u001b[36m0:00:00\u001b[0m\n",
      "\u001b[?25hDownloading tzdata-2025.2-py2.py3-none-any.whl (347 kB)\n",
      "\u001b[2K   \u001b[90m━━━━━━━━━━━━━━━━━━━━━━━━━━━━━━━━━━━━━━━\u001b[0m \u001b[32m347.8/347.8 kB\u001b[0m \u001b[31m119.0 MB/s\u001b[0m eta \u001b[36m0:00:00\u001b[0m\n",
      "\u001b[?25hInstalling collected packages: pytz, tzdata, pandas\n",
      "Successfully installed pandas-2.2.3 pytz-2025.2 tzdata-2025.2\n",
      "\u001b[33mWARNING: Running pip as the 'root' user can result in broken permissions and conflicting behaviour with the system package manager. It is recommended to use a virtual environment instead: https://pip.pypa.io/warnings/venv\u001b[0m\u001b[33m\n",
      "\u001b[0m\n",
      "\u001b[1m[\u001b[0m\u001b[34;49mnotice\u001b[0m\u001b[1;39;49m]\u001b[0m\u001b[39;49m A new release of pip is available: \u001b[0m\u001b[31;49m23.2.1\u001b[0m\u001b[39;49m -> \u001b[0m\u001b[32;49m25.0.1\u001b[0m\n",
      "\u001b[1m[\u001b[0m\u001b[34;49mnotice\u001b[0m\u001b[1;39;49m]\u001b[0m\u001b[39;49m To update, run: \u001b[0m\u001b[32;49mpython3 -m pip install --upgrade pip\u001b[0m\n"
     ]
    }
   ],
   "source": [
    "!pip install pandas matplotlib numpy keras"
   ]
  },
  {
   "cell_type": "code",
   "execution_count": 2,
   "metadata": {
    "id": "P2VItMoDL5wx"
   },
   "outputs": [
    {
     "name": "stderr",
     "output_type": "stream",
     "text": [
      "2025-04-23 18:39:07.951320: I tensorflow/core/util/port.cc:111] oneDNN custom operations are on. You may see slightly different numerical results due to floating-point round-off errors from different computation orders. To turn them off, set the environment variable `TF_ENABLE_ONEDNN_OPTS=0`.\n",
      "2025-04-23 18:39:07.988286: E tensorflow/compiler/xla/stream_executor/cuda/cuda_dnn.cc:9342] Unable to register cuDNN factory: Attempting to register factory for plugin cuDNN when one has already been registered\n",
      "2025-04-23 18:39:07.988310: E tensorflow/compiler/xla/stream_executor/cuda/cuda_fft.cc:609] Unable to register cuFFT factory: Attempting to register factory for plugin cuFFT when one has already been registered\n",
      "2025-04-23 18:39:07.988345: E tensorflow/compiler/xla/stream_executor/cuda/cuda_blas.cc:1518] Unable to register cuBLAS factory: Attempting to register factory for plugin cuBLAS when one has already been registered\n",
      "2025-04-23 18:39:07.996410: I tensorflow/core/platform/cpu_feature_guard.cc:182] This TensorFlow binary is optimized to use available CPU instructions in performance-critical operations.\n",
      "To enable the following instructions: AVX2 AVX512F AVX512_VNNI AVX512_BF16 AVX_VNNI AMX_TILE AMX_INT8 AMX_BF16 FMA, in other operations, rebuild TensorFlow with the appropriate compiler flags.\n"
     ]
    }
   ],
   "source": [
    "# Load libraries and packages\n",
    "import numpy as np\n",
    "import pandas as pd\n",
    "import matplotlib.pyplot as plt\n",
    "from pandas import read_csv, set_option\n",
    "import datetime\n",
    "import math\n",
    "from numpy.random import choice\n",
    "import random\n",
    "from collections import deque\n",
    "import time\n",
    "\n",
    "import keras\n",
    "from keras.models import Sequential\n",
    "from keras.models import load_model\n",
    "from keras.layers import Dense\n",
    "from keras.optimizers import Adam"
   ]
  },
  {
   "cell_type": "code",
   "execution_count": 3,
   "metadata": {
    "colab": {
     "base_uri": "https://localhost:8080/"
    },
    "id": "VLd3ac9pP5J5",
    "outputId": "17122171-09a7-4795-9e83-1f6f98e5ffd4"
   },
   "outputs": [],
   "source": [
    "# Load the data\n",
    "# from google.colab import drive\n",
    "# drive.mount('/content/drive')\n",
    "# %cd /content/drive/My Drive/cs4100 project - reinforcement learning in stock trading/\n",
    "\n",
    "#The data already obtained from yahoo finance is imported.\n",
    "dataset = read_csv('QQQ_10y.csv',index_col=0)"
   ]
  },
  {
   "cell_type": "markdown",
   "metadata": {
    "id": "9rlUPyCiQReL"
   },
   "source": [
    "# Data Exploration"
   ]
  },
  {
   "cell_type": "code",
   "execution_count": 4,
   "metadata": {
    "colab": {
     "base_uri": "https://localhost:8080/"
    },
    "id": "5vKocxVtP8xg",
    "outputId": "215d9f79-947a-4fc5-950f-8457d2c567c5"
   },
   "outputs": [
    {
     "data": {
      "text/plain": [
       "(2516, 6)"
      ]
     },
     "execution_count": 4,
     "metadata": {},
     "output_type": "execute_result"
    }
   ],
   "source": [
    "# Shape\n",
    "dataset.shape"
   ]
  },
  {
   "cell_type": "code",
   "execution_count": 5,
   "metadata": {
    "colab": {
     "base_uri": "https://localhost:8080/",
     "height": 204
    },
    "id": "dqoOc1TfQgXN",
    "outputId": "44404495-0afc-4710-a128-1f596ab7a813"
   },
   "outputs": [
    {
     "data": {
      "text/html": [
       "<div>\n",
       "<style scoped>\n",
       "    .dataframe tbody tr th:only-of-type {\n",
       "        vertical-align: middle;\n",
       "    }\n",
       "\n",
       "    .dataframe tbody tr th {\n",
       "        vertical-align: top;\n",
       "    }\n",
       "\n",
       "    .dataframe thead th {\n",
       "        text-align: right;\n",
       "    }\n",
       "</style>\n",
       "<table border=\"1\" class=\"dataframe\">\n",
       "  <thead>\n",
       "    <tr style=\"text-align: right;\">\n",
       "      <th></th>\n",
       "      <th>Open</th>\n",
       "      <th>High</th>\n",
       "      <th>Low</th>\n",
       "      <th>Close</th>\n",
       "      <th>Adj Close</th>\n",
       "      <th>Volume</th>\n",
       "    </tr>\n",
       "  </thead>\n",
       "  <tbody>\n",
       "    <tr>\n",
       "      <th>2015-04-20</th>\n",
       "      <td>106.54</td>\n",
       "      <td>107.79</td>\n",
       "      <td>106.50</td>\n",
       "      <td>107.60</td>\n",
       "      <td>99.499432</td>\n",
       "      <td>28945909.0</td>\n",
       "    </tr>\n",
       "    <tr>\n",
       "      <th>2015-04-21</th>\n",
       "      <td>108.22</td>\n",
       "      <td>108.41</td>\n",
       "      <td>107.93</td>\n",
       "      <td>108.06</td>\n",
       "      <td>99.924802</td>\n",
       "      <td>22759772.0</td>\n",
       "    </tr>\n",
       "    <tr>\n",
       "      <th>2015-04-22</th>\n",
       "      <td>108.34</td>\n",
       "      <td>108.83</td>\n",
       "      <td>107.64</td>\n",
       "      <td>108.65</td>\n",
       "      <td>100.470384</td>\n",
       "      <td>21429190.0</td>\n",
       "    </tr>\n",
       "    <tr>\n",
       "      <th>2015-04-23</th>\n",
       "      <td>108.28</td>\n",
       "      <td>109.55</td>\n",
       "      <td>108.26</td>\n",
       "      <td>109.06</td>\n",
       "      <td>100.849518</td>\n",
       "      <td>29473221.0</td>\n",
       "    </tr>\n",
       "    <tr>\n",
       "      <th>2015-04-24</th>\n",
       "      <td>110.21</td>\n",
       "      <td>110.69</td>\n",
       "      <td>110.03</td>\n",
       "      <td>110.54</td>\n",
       "      <td>102.218097</td>\n",
       "      <td>32508127.0</td>\n",
       "    </tr>\n",
       "  </tbody>\n",
       "</table>\n",
       "</div>"
      ],
      "text/plain": [
       "              Open    High     Low   Close   Adj Close      Volume\n",
       "2015-04-20  106.54  107.79  106.50  107.60   99.499432  28945909.0\n",
       "2015-04-21  108.22  108.41  107.93  108.06   99.924802  22759772.0\n",
       "2015-04-22  108.34  108.83  107.64  108.65  100.470384  21429190.0\n",
       "2015-04-23  108.28  109.55  108.26  109.06  100.849518  29473221.0\n",
       "2015-04-24  110.21  110.69  110.03  110.54  102.218097  32508127.0"
      ]
     },
     "metadata": {},
     "output_type": "display_data"
    }
   ],
   "source": [
    "# Display the first few rows of the dataset\n",
    "display(dataset.head())"
   ]
  },
  {
   "cell_type": "code",
   "execution_count": 6,
   "metadata": {
    "colab": {
     "base_uri": "https://localhost:8080/",
     "height": 447
    },
    "id": "XBN6lSh6Qk87",
    "outputId": "a814f9b2-f7fa-4ca7-964c-2a9e20145ba5"
   },
   "outputs": [
    {
     "data": {
      "text/plain": [
       "<Axes: >"
      ]
     },
     "execution_count": 6,
     "metadata": {},
     "output_type": "execute_result"
    },
    {
     "data": {
      "image/png": "[encoded data removed]",
      "text/plain": [
       "<Figure size 640x480 with 1 Axes>"
      ]
     },
     "metadata": {},
     "output_type": "display_data"
    }
   ],
   "source": [
    "# Plot the overall data movement\n",
    "dataset['Close'].plot()"
   ]
  },
  {
   "cell_type": "markdown",
   "metadata": {
    "id": "hTNBc1gFQs-7"
   },
   "source": [
    "# Data Cleaning and Preparation"
   ]
  },
  {
   "cell_type": "code",
   "execution_count": 7,
   "metadata": {
    "colab": {
     "base_uri": "https://localhost:8080/"
    },
    "id": "X3AXj5YCQkQs",
    "outputId": "294e25d0-c75f-4d91-cbd5-14d2d6844a27"
   },
   "outputs": [
    {
     "name": "stdout",
     "output_type": "stream",
     "text": [
      "Number of rows with missing values: 0\n"
     ]
    }
   ],
   "source": [
    "# Find rows with any missing values\n",
    "rows_with_na = dataset[dataset.isnull().any(axis=1)]\n",
    "\n",
    "# Display how many rows have missing values\n",
    "print(f\"Number of rows with missing values: {len(rows_with_na)}\")"
   ]
  },
  {
   "cell_type": "code",
   "execution_count": 8,
   "metadata": {
    "colab": {
     "base_uri": "https://localhost:8080/"
    },
    "id": "saaRo1DZP6yq",
    "outputId": "d86379b6-a7eb-4d5a-c4d0-b0b95b5344db"
   },
   "outputs": [
    {
     "name": "stdout",
     "output_type": "stream",
     "text": [
      "2012\n",
      "504\n"
     ]
    }
   ],
   "source": [
    "# Train–test split (80% for training, 20% for testing)\n",
    "# Extract the 'Close' column as a NumPy array\n",
    "X = dataset[\"Close\"].astype(float).values\n",
    "\n",
    "# Define split ratio\n",
    "validation_size = 0.2\n",
    "train_size = int(len(X) * (1 - validation_size))\n",
    "\n",
    "# Perform the split\n",
    "X_train = X[:train_size]\n",
    "X_test = X[train_size:]\n",
    "\n",
    "print(len(X_train))\n",
    "print(len(X_test))"
   ]
  },
  {
   "cell_type": "markdown",
   "metadata": {
    "id": "IjxyL6IrO_L4"
   },
   "source": [
    "# Model Implementation"
   ]
  },
  {
   "cell_type": "code",
   "execution_count": 9,
   "metadata": {
    "id": "jGB-gTz2PCek"
   },
   "outputs": [],
   "source": [
    "# Deep Q-Network (DQN) Agent Class\n",
    "class DQNAgent:\n",
    "    def __init__(self, state_size, is_eval=False, model_name=\"\"):\n",
    "        self.state_size = state_size  # Size of input vector (state)\n",
    "        self.action_size = 3\n",
    "        self.memory = deque(maxlen=2100)  # Experience replay memory\n",
    "        self.gamma = 0.95  # Discount factor for future rewards\n",
    "        self.epsilon = 1.0  # Initial exploration rate (epsilon-greedy)\n",
    "        self.epsilon_min = 0.01  # Minimum epsilon\n",
    "        self.epsilon_decay = 0.995  # Rate at which epsilon decays\n",
    "        self.learning_rate = 0.001  # Learning rate for the optimizer\n",
    "        self.is_eval = is_eval\n",
    "        self.model_name = model_name\n",
    "\n",
    "        # Main Q-network and Target network\n",
    "        self.model = load_model(model_name) if is_eval else self._build_model()  # Current Q-value estimator\n",
    "        self.target_model = self._build_model()  # Target Q-value estimator\n",
    "        self.update_target_model()  # Initialize target model weights\n",
    "\n",
    "    def _build_model(self):\n",
    "        # Build a simple feedforward neural network with two hidden layers\n",
    "        model = Sequential()\n",
    "        model.add(Dense(24, input_dim=self.state_size, activation='relu'))  # First hidden layer\n",
    "        model.add(Dense(24, activation='relu'))  # Second hidden layer\n",
    "        model.add(Dense(self.action_size, activation='linear'))  # Output layer for Q-values\n",
    "        model.compile(loss='mse', optimizer=Adam(learning_rate=self.learning_rate))\n",
    "        return model\n",
    "\n",
    "    def update_target_model(self):\n",
    "        # Copy weights from main model to target model\n",
    "        # Helps stabilize training by keeping the target fixed for some time\n",
    "        self.target_model.set_weights(self.model.get_weights())\n",
    "\n",
    "    def remember(self, state, action, reward, next_state, done):\n",
    "        # Store a transition in memory for experience replay\n",
    "        self.memory.append((state, action, reward, next_state, done))\n",
    "\n",
    "    def act(self, state):\n",
    "        # Epsilon-greedy policy: choose random action with probability epsilon\n",
    "        if not self.is_eval and random.random() <= self.epsilon:\n",
    "            return random.randrange(self.action_size)\n",
    "        # Otherwise, choose best action predicted by Q-network\n",
    "        act_values = self.model.predict(state, verbose=0)\n",
    "        return np.argmax(act_values[0])\n",
    "\n",
    "    def replay(self, batch_size):\n",
    "        # Sample a minibatch of transitions from memory\n",
    "        minibatch = random.sample(self.memory, batch_size)\n",
    "        for state, action, reward, next_state, done in minibatch:\n",
    "            # Predict Q-values using the target network (for stability)\n",
    "            target = self.model.predict(state, verbose=0)\n",
    "            if done:\n",
    "                target[0][action] = reward  # If episode ends, no future reward\n",
    "            else:\n",
    "                # Q-learning update with target network\n",
    "                t = self.target_model.predict(next_state, verbose=0)\n",
    "                target[0][action] = reward + self.gamma * np.amax(t[0])\n",
    "\n",
    "            # Train the main model on the updated Q-value for the action\n",
    "            self.model.fit(state, target, epochs=1, verbose=0)\n",
    "\n",
    "        # Decay epsilon to reduce exploration over time\n",
    "        if self.epsilon > self.epsilon_min:\n",
    "            self.epsilon *= self.epsilon_decay\n"
   ]
  },
  {
   "cell_type": "code",
   "execution_count": 10,
   "metadata": {
    "id": "YUd1q74M5fIT"
   },
   "outputs": [],
   "source": [
    "def get_state(prices, t, window_size):\n",
    "    \"\"\"\n",
    "    Generate sigmoid-normalized momentum state vector at time t.\n",
    "    Includes padding with prices[0] when t < window_size.\n",
    "    Returns a (1, window_size) shaped array.\n",
    "    \"\"\"\n",
    "    state = []\n",
    "    for i in range(t - window_size + 1, t + 1):\n",
    "        if i <= 0:\n",
    "            # Pad with sigmoid(0) = 0.5 when using prices[0] - prices[0]\n",
    "            state.append(0.5)\n",
    "        else:\n",
    "            change = prices[i] - prices[i - 1]\n",
    "            normalized = 1 / (1 + np.exp(-change))\n",
    "            state.append(normalized)\n",
    "    return np.array([state])"
   ]
  },
  {
   "cell_type": "markdown",
   "metadata": {
    "id": "H5ADFz-ZJWov"
   },
   "source": [
    "# Model Training"
   ]
  },
  {
   "cell_type": "code",
   "execution_count": 12,
   "metadata": {
    "id": "d1eKIO-RJY8F"
   },
   "outputs": [
    {
     "name": "stdout",
     "output_type": "stream",
     "text": [
      "Episode 1/50\n",
      "Total Profit: 1423.48\n",
      "Episode Time: 127.75 seconds\n",
      "Episode 2/50\n",
      "Total Profit: -109.92\n",
      "Episode Time: 138.12 seconds\n",
      "Episode 3/50\n",
      "Total Profit: 542.91\n",
      "Episode Time: 149.67 seconds\n",
      "Episode 4/50\n",
      "Total Profit: 345.99\n",
      "Episode Time: 159.99 seconds\n",
      "Episode 5/50\n",
      "Total Profit: 774.53\n",
      "Episode Time: 170.44 seconds\n",
      "Episode 6/50\n",
      "Total Profit: 108.3\n",
      "Episode Time: 175.19 seconds\n",
      "Episode 7/50\n",
      "Total Profit: 505.11\n",
      "Episode Time: 186.07 seconds\n",
      "Episode 8/50\n",
      "Total Profit: 1882.13\n",
      "Episode Time: 188.01 seconds\n",
      "Episode 9/50\n",
      "Total Profit: 500.16\n",
      "Episode Time: 194.61 seconds\n",
      "Episode 10/50\n",
      "Total Profit: 254.16\n"
     ]
    },
    {
     "name": "stderr",
     "output_type": "stream",
     "text": [
      "/usr/local/lib/python3.11/dist-packages/keras/src/engine/training.py:3079: UserWarning: You are saving your model as an HDF5 file via `model.save()`. This file format is considered legacy. We recommend using instead the native Keras format, e.g. `model.save('my_model.keras')`.\n",
      "  saving_api.save_model(\n"
     ]
    },
    {
     "name": "stdout",
     "output_type": "stream",
     "text": [
      "Episode Time: 200.12 seconds\n",
      "Episode 11/50\n",
      "Total Profit: 27454.24\n",
      "Episode Time: 204.11 seconds\n",
      "Episode 12/50\n",
      "Total Profit: 9.4\n",
      "Episode Time: 207.81 seconds\n",
      "Episode 13/50\n",
      "Total Profit: 131.94\n",
      "Episode Time: 214.68 seconds\n",
      "Episode 14/50\n",
      "Total Profit: 2496.0\n",
      "Episode Time: 217.43 seconds\n",
      "Episode 15/50\n",
      "Total Profit: -337.77\n",
      "Episode Time: 220.92 seconds\n",
      "Episode 16/50\n",
      "Total Profit: 37761.47\n",
      "Episode Time: 224.06 seconds\n",
      "Episode 17/50\n",
      "Total Profit: 315.82\n",
      "Episode Time: 224.84 seconds\n",
      "Episode 18/50\n",
      "Total Profit: 14385.9\n",
      "Episode Time: 232.14 seconds\n",
      "Episode 19/50\n",
      "Total Profit: 350.29\n",
      "Episode Time: 231.76 seconds\n",
      "Episode 20/50\n",
      "Total Profit: 3983.81\n",
      "Episode Time: 232.07 seconds\n",
      "Episode 21/50\n",
      "Total Profit: 25086.42\n",
      "Episode Time: 233.94 seconds\n",
      "Episode 22/50\n",
      "Total Profit: 86.4\n",
      "Episode Time: 236.54 seconds\n",
      "Episode 23/50\n",
      "Total Profit: -766.07\n",
      "Episode Time: 238.22 seconds\n",
      "Episode 24/50\n",
      "Total Profit: 120581.99\n",
      "Episode Time: 238.65 seconds\n",
      "Episode 25/50\n",
      "Total Profit: 11.27\n",
      "Episode Time: 243.7 seconds\n",
      "Episode 26/50\n",
      "Total Profit: 4.52\n",
      "Episode Time: 242.94 seconds\n",
      "Episode 27/50\n",
      "Total Profit: -5.05\n",
      "Episode Time: 245.31 seconds\n",
      "Episode 28/50\n",
      "Total Profit: 23.27\n",
      "Episode Time: 244.09 seconds\n",
      "Episode 29/50\n",
      "Total Profit: 5.39\n",
      "Episode Time: 247.92 seconds\n",
      "Episode 30/50\n",
      "Total Profit: 14.55\n",
      "Episode Time: 246.76 seconds\n",
      "Episode 31/50\n",
      "Total Profit: 21.43\n",
      "Episode Time: 246.81 seconds\n",
      "Episode 32/50\n",
      "Total Profit: 63.77\n",
      "Episode Time: 248.45 seconds\n",
      "Episode 33/50\n",
      "Total Profit: 83114.71\n",
      "Episode Time: 246.86 seconds\n",
      "Episode 34/50\n",
      "Total Profit: 1.48\n",
      "Episode Time: 249.53 seconds\n",
      "Episode 35/50\n",
      "Total Profit: -1.62\n",
      "Episode Time: 248.67 seconds\n",
      "Episode 36/50\n",
      "Total Profit: 16.05\n",
      "Episode Time: 248.01 seconds\n",
      "Episode 37/50\n",
      "Total Profit: -10.51\n",
      "Episode Time: 250.35 seconds\n",
      "Episode 38/50\n",
      "Total Profit: 5.6\n",
      "Episode Time: 247.16 seconds\n",
      "Episode 39/50\n",
      "Total Profit: -0.88\n",
      "Episode Time: 251.17 seconds\n",
      "Episode 40/50\n",
      "Total Profit: 12.71\n",
      "Episode Time: 250.07 seconds\n",
      "Episode 41/50\n",
      "Total Profit: -12.4\n",
      "Episode Time: 252.16 seconds\n",
      "Episode 42/50\n",
      "Total Profit: 10.53\n",
      "Episode Time: 253.05 seconds\n",
      "Episode 43/50\n",
      "Total Profit: 60.41\n",
      "Episode Time: 251.48 seconds\n",
      "Episode 44/50\n",
      "Total Profit: -7.2\n",
      "Episode Time: 252.0 seconds\n",
      "Episode 45/50\n",
      "Total Profit: 10.35\n",
      "Episode Time: 251.6 seconds\n",
      "Episode 46/50\n",
      "Total Profit: -28.14\n",
      "Episode Time: 250.3 seconds\n",
      "Episode 47/50\n",
      "Total Profit: -19.46\n",
      "Episode Time: 248.68 seconds\n",
      "Episode 48/50\n",
      "Total Profit: -30.55\n",
      "Episode Time: 249.96 seconds\n",
      "Episode 49/50\n",
      "Total Profit: -3.61\n",
      "Episode Time: 248.83 seconds\n",
      "Episode 50/50\n",
      "Total Profit: -145.12\n",
      "Episode Time: 254.29 seconds\n"
     ]
    }
   ],
   "source": [
    "# Training parameters\n",
    "window_size = 2\n",
    "agent = DQNAgent(window_size)\n",
    "batch_size = 32\n",
    "episodes = 50\n",
    "prices = X_train\n",
    "x = 1  # Shares per trade\n",
    "replay_steps = 100\n",
    "\n",
    "states = [get_state(prices, t, window_size) for t in range(len(prices))]\n",
    "# --- Training Loop ---\n",
    "for e in range(episodes):\n",
    "    start = time.time()\n",
    "    print(f\"Episode {e + 1}/{episodes}\")\n",
    "    total_profit = 0\n",
    "    inventory = []\n",
    "    state = states[window_size - 1]\n",
    "\n",
    "    buy_points = []\n",
    "    sell_points = []\n",
    "\n",
    "    for t in range(window_size - 1, len(prices) - 1):\n",
    "        action = agent.act(state)\n",
    "        next_state = states[t + 1]\n",
    "        done = (t == len(prices) - 2)\n",
    "\n",
    "        # --- Inline step logic ---\n",
    "        reward = 0\n",
    "        if action == 1:  # Buy\n",
    "            inventory.append(prices[t])\n",
    "            buy_points.append((t, prices[t]))\n",
    "        elif action == 2 and len(inventory) > 0:  # Sell\n",
    "            bought_price = inventory.pop(0)\n",
    "            reward = (prices[t] - bought_price) * x\n",
    "            total_profit += reward\n",
    "            sell_points.append((t, prices[t]))\n",
    "\n",
    "        agent.remember(state, action, reward, next_state, done)\n",
    "        state = next_state\n",
    "\n",
    "        if len(agent.memory) > batch_size and t % replay_steps == 0:\n",
    "          agent.replay(batch_size)\n",
    "\n",
    "\n",
    "        if done:\n",
    "            print(f\"Total Profit: {round(total_profit, 2)}\")\n",
    "            break\n",
    "\n",
    "    # Update target network every 5 episodes\n",
    "    if (e + 1) % 5 == 0:\n",
    "        agent.update_target_model()\n",
    "\n",
    "    # Save model every 10 episodes\n",
    "    if (e + 1) % 10 == 0:\n",
    "        agent.model.save(f\"model_ep{e+1}.h5\")\n",
    "\n",
    "    # --- Plot trading decisions ---\n",
    "    plt.figure(figsize=(16, 8))\n",
    "    plt.plot(prices, label='Price')\n",
    "    if buy_points:\n",
    "        buy_t, buy_p = zip(*buy_points)\n",
    "        plt.scatter(buy_t, buy_p, marker='^', color='green', label='Buy', s=100)\n",
    "    if sell_points:\n",
    "        sell_t, sell_p = zip(*sell_points)\n",
    "        plt.scatter(sell_t, sell_p, marker='v', color='red', label='Sell', s=100)\n",
    "    plt.title(f\"Episode {e + 1} — Total Profit: {round(total_profit, 2)}\")\n",
    "    plt.xlabel(\"Time Step\")\n",
    "    plt.ylabel(\"Price\")\n",
    "    plt.legend()\n",
    "    plt.grid(True)\n",
    "    # Save the figure only (no display)\n",
    "    plt.savefig(f\"plots/trading_episode_{e+1}.png\", dpi=300, bbox_inches='tight')\n",
    "    plt.close()  # Close the figure to release memory\n",
    "\n",
    "    print(f\"Episode Time: {round(time.time() - start, 2)} seconds\")"
   ]
  },
  {
   "cell_type": "markdown",
   "metadata": {
    "id": "yOK-l1R7ai9I"
   },
   "source": [
    "# Model testing"
   ]
  },
  {
   "cell_type": "code",
   "execution_count": 14,
   "metadata": {
    "id": "EXR_mHJpakrT"
   },
   "outputs": [
    {
     "name": "stdout",
     "output_type": "stream",
     "text": [
      "Evaluation on test set completed — Total Profit: -31.69\n"
     ]
    },
    {
     "data": {
      "image/png": "[encoded data removed]",
      "text/plain": [
       "<Figure size 1200x500 with 1 Axes>"
      ]
     },
     "metadata": {},
     "output_type": "display_data"
    }
   ],
   "source": [
    "# --- Set up for evaluation on test data ---\n",
    "prices = X_test  # Use test prices\n",
    "inventory = []\n",
    "total_profit = 0\n",
    "x = 1  # Shares per trade\n",
    "window_size = 2  # Same as training\n",
    "is_eval = True\n",
    "model_name = f\"model_ep{episodes}.h5\"\n",
    "agent = DQNAgent(window_size, is_eval, model_name)\n",
    "\n",
    "buy_points = []\n",
    "sell_points = []\n",
    "\n",
    "state = get_state(prices, window_size - 1, window_size)\n",
    "\n",
    "# --- Evaluation Loop ---\n",
    "for t in range(window_size, len(prices) - 1):\n",
    "    action = agent.act(state)\n",
    "    next_state = get_state(prices, t + 1, window_size)\n",
    "\n",
    "    reward = 0\n",
    "    if action == 1:  # Buy\n",
    "        inventory.append(prices[t])\n",
    "        buy_points.append((t, prices[t]))\n",
    "    elif action == 2 and len(inventory) > 0:  # Sell\n",
    "        bought_price = inventory.pop(0)\n",
    "        reward = (prices[t] - bought_price) * x\n",
    "        total_profit += reward\n",
    "        sell_points.append((t, prices[t]))\n",
    "\n",
    "    state = next_state\n",
    "\n",
    "print(f\"Evaluation on test set completed — Total Profit: {round(total_profit, 2)}\")\n",
    "plt.figure(figsize=(12, 5))\n",
    "plt.plot(prices, label='Price')\n",
    "if buy_points:\n",
    "    buy_t, buy_p = zip(*buy_points)\n",
    "    plt.scatter(buy_t, buy_p, marker='^', color='green', label='Buy', s=100)\n",
    "if sell_points:\n",
    "    sell_t, sell_p = zip(*sell_points)\n",
    "    plt.scatter(sell_t, sell_p, marker='v', color='red', label='Sell', s=100)\n",
    "plt.title(f\"Evaluation on Test Set — Total Profit: {round(total_profit, 2)}\")\n",
    "plt.xlabel(\"Time Step\")\n",
    "plt.ylabel(\"Price\")\n",
    "plt.legend()\n",
    "plt.grid(True)\n",
    "plt.show()\n"
   ]
  },
  {
   "cell_type": "code",
   "execution_count": null,
   "metadata": {},
   "outputs": [],
   "source": []
  }
 ],
 "metadata": {
  "colab": {
   "collapsed_sections": [
    "IjxyL6IrO_L4",
    "H5ADFz-ZJWov",
    "yOK-l1R7ai9I"
   ],
   "provenance": []
  },
  "kernelspec": {
   "display_name": "Python 3 (ipykernel)",
   "language": "python",
   "name": "python3"
  },
  "language_info": {
   "codemirror_mode": {
    "name": "ipython",
    "version": 3
   },
   "file_extension": ".py",
   "mimetype": "text/x-python",
   "name": "python",
   "nbconvert_exporter": "python",
   "pygments_lexer": "ipython3",
   "version": "3.11.0rc1"
  }
 },
 "nbformat": 4,
 "nbformat_minor": 4
}
